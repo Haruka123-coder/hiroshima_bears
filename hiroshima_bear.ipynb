{
 "cells": [
  {
   "cell_type": "code",
   "execution_count": 2,
   "id": "b6059e89",
   "metadata": {},
   "outputs": [],
   "source": [
    "import requests\n",
    "from bs4 import BeautifulSoup\n",
    "import io\n",
    "import pdfplumber\n",
    "import csv\n",
    "import pandas as pd\n",
    "import datetime"
   ]
  },
  {
   "cell_type": "code",
   "execution_count": 3,
   "id": "d57c427e",
   "metadata": {},
   "outputs": [],
   "source": [
    "url=\"https://www.pref.hiroshima.lg.jp/site/wildlife-management/wm-bear-main.html\"\n",
    "req=requests.get(url)\n",
    "soup=BeautifulSoup(req.content)\n",
    "a=soup.find_all(\"a\")\n",
    "\n",
    "# scrape PDF from the page and store into list\n",
    "pdf_links=[]\n",
    "for link in a:\n",
    "    href=link.get(\"href\")\n",
    "    text=link.get_text()\n",
    "    head=\"https://www.pref.hiroshima.lg.jp/\"\n",
    "    if link.get(\"href\") and \"目撃件数\" in text and \"年度\" in text:\n",
    "        # hred=link.get(\"href\")\n",
    "        pdf_links.append(head+href)\n",
    "# print(pdf_links)"
   ]
  },
  {
   "cell_type": "code",
   "execution_count": null,
   "id": "f2760376",
   "metadata": {},
   "outputs": [
    {
     "name": "stderr",
     "output_type": "stream",
     "text": [
      "CropBox missing from /Page, defaulting to MediaBox\n",
      "CropBox missing from /Page, defaulting to MediaBox\n"
     ]
    },
    {
     "name": "stdout",
     "output_type": "stream",
     "text": [
      "令和5年度（2023）市町別・月別目撃状況（３月末時点）\n",
      "※ツキノワグマと疑われる目撃例や痕跡等を含みます。\n",
      "農林 市 町 4 5 6 7 8 9 10 11 12 1 2 3 計\n",
      "広 島 市 3 10 11 12 13 10 66 57 10 4 0 1 197\n",
      "呉 市 1 0 1 0 0 0 0 0 0 0 0 0 2\n",
      "大 竹 市 0 0 0 1 0 0 5 3 1 0 0 0 10\n",
      "西\n",
      "東 広 島 市 1 3 4 2 2 0 0 1 0 0 0 2 15\n",
      "廿 日 市 市 0 1 5 3 1 7 26 17 0 0 0 0 60\n",
      "府 中 町 0 0 0 0 0 0 0 1 0 0 0 0 1\n",
      "安芸高田市 1 8 9 6 2 3 6 6 3 0 1 0 45\n",
      "部\n",
      "安芸太田町 2 8 15 2 4 10 58 36 1 0 0 0 136\n",
      "北 広 島 町 3 7 9 7 0 5 23 10 4 0 0 1 69\n",
      "農 林 計 11 37 54 33 22 35 184 131 19 4 1 4 535\n",
      "尾 道 市 0 0 0 0 0 0 0 0 0 0 0 0 0\n",
      "福 山 市 0 0 0 0 0 0 0 0 0 0 0 0 0\n",
      "東\n",
      "府 中 市 0 1 0 0 0 0 0 0 0 0 0 0 1\n",
      "三 原 市 0 0 0 2 0 1 0 0 0 0 0 0 3\n",
      "部\n",
      "世 羅 町 0 0 0 0 0 0 0 0 0 0 0 0 0\n",
      "神石高原町 0 1 1 0 0 1 1 0 0 0 1 0 5\n",
      "農 林 計 0 2 1 2 0 2 1 0 0 0 1 0 9\n",
      "北\n",
      "三 次 市 0 7 10 6 4 4 14 14 5 0 0 1 65\n",
      "部\n",
      "庄 原 市 1 10 12 15 4 9 19 32 8 3 2 0 115\n",
      "農 林 計 1 17 22 21 8 13 33 46 13 3 2 1 180\n",
      "県 計 12 56 77 56 30 50 218 177 32 7 4 5 724\n"
     ]
    },
    {
     "name": "stderr",
     "output_type": "stream",
     "text": [
      "CropBox missing from /Page, defaulting to MediaBox\n",
      "CropBox missing from /Page, defaulting to MediaBox\n"
     ]
    },
    {
     "name": "stdout",
     "output_type": "stream",
     "text": [
      "令和６年度（2024）市町別・月別目撃状況（３月末時点）\n",
      "※ツキノワグマと疑われる目撃例や痕跡等を含みます。\n",
      "農林 市 町 4 5 6 7 8 9 10 11 12 1 2 3 計\n",
      "広 島 市 7 15 23 18 24 10 80 41 7 3 3 2 233\n",
      "呉 市 0 0 0 0 0 0 0 0 0 0 0 0 0\n",
      "大 竹 市 0 2 2 1 1 3 19 9 2 0 0 0 39\n",
      "東 広 島 市 0 1 3 0 1 2 3 3 0 0 0 0 13\n",
      "西\n",
      "廿 日 市 市 0 11 11 15 7 6 9 6 0 0 0 0 65\n",
      "安芸高田市 1 9 6 2 4 8 16 16 1 1 0 0 64\n",
      "部\n",
      "府 中 町 0 0 0 0 0 0 0 0 0 0 0 0 0\n",
      "安芸太田町 6 17 22 20 23 12 15 10 2 0 0 0 127\n",
      "北 広 島 町 2 4 17 5 15 4 5 10 1 0 0 2 65\n",
      "農 林 計 16 59 84 61 75 45 147 95 13 4 3 4 606\n",
      "尾 道 市 0 0 0 0 0 0 0 0 0 0 0 0 0\n",
      "福 山 市 0 1 1 1 0 0 0 0 0 0 0 0 3\n",
      "東\n",
      "府 中 市 0 0 0 0 0 0 0 0 0 0 0 0 0\n",
      "三 原 市 1 0 1 0 0 2 3 0 0 0 0 0 7\n",
      "部\n",
      "世 羅 町 1 0 0 0 0 2 0 0 0 0 0 0 3\n",
      "神石高原町 0 0 4 3 0 0 0 1 0 0 1 0 9\n",
      "農 林 計 2 1 6 4 0 4 3 1 0 0 1 0 22\n",
      "三 次 市 2 5 11 12 3 6 13 12 0 0 0 0 64\n",
      "北\n",
      "庄 原 市 1 5 25 13 10 9 17 13 3 1 0 0 97\n",
      "部\n",
      "農 林 計 3 10 36 25 13 15 30 25 3 1 0 0 161\n",
      "県 計 21 70 126 90 88 64 180 121 16 5 4 4 789\n"
     ]
    },
    {
     "name": "stderr",
     "output_type": "stream",
     "text": [
      "CropBox missing from /Page, defaulting to MediaBox\n",
      "CropBox missing from /Page, defaulting to MediaBox\n"
     ]
    },
    {
     "name": "stdout",
     "output_type": "stream",
     "text": [
      "令和７年度（2025）市町別・月別目撃状況（６月末時点）\n",
      "※ツキノワグマと疑われる目撃例や痕跡等を含みます。\n",
      "農林 市 町 4 5 6 7 8 9 10 11 12 1 2 3 計\n",
      "広 島 市 4 11 16 0 0 0 0 0 0 0 0 0 31\n",
      "呉 市 0 0 0 0 0 0 0 0 0 0 0 0 0\n",
      "大 竹 市 0 2 0 0 0 0 0 0 0 0 0 0 2\n",
      "東 広 島 市 0 0 2 0 0 0 0 0 0 0 0 0 2\n",
      "西\n",
      "廿 日 市 市 1 0 4 0 0 0 0 0 0 0 0 0 5\n",
      "安芸高田市 5 7 16 0 0 0 0 0 0 0 0 0 28\n",
      "部\n",
      "府 中 町 0 0 2 0 0 0 0 0 0 0 0 0 2\n",
      "安芸太田町 6 11 13 0 0 0 0 0 0 0 0 0 30\n",
      "北 広 島 町 2 5 8 0 0 0 0 0 0 0 0 0 15\n",
      "農 林 計 18 36 61 0 0 0 0 0 0 0 0 0 115\n",
      "尾 道 市 0 0 0 0 0 0 0 0 0 0 0 0 0\n",
      "福 山 市 2 0 0 0 0 0 0 0 0 0 0 0 2\n",
      "東\n",
      "府 中 市 0 0 0 0 0 0 0 0 0 0 0 0 0\n",
      "三 原 市 0 0 3 0 0 0 0 0 0 0 0 0 3\n",
      "部\n",
      "世 羅 町 0 0 0 0 0 0 0 0 0 0 0 0 0\n",
      "神石高原町 0 0 0 0 0 0 0 0 0 0 0 0 0\n",
      "農 林 計 2 0 3 0 0 0 0 0 0 0 0 0 5\n",
      "三 次 市 1 5 5 0 0 0 0 0 0 0 0 0 11\n",
      "北\n",
      "庄 原 市 0 3 6 0 0 0 0 0 0 0 0 0 9\n",
      "部\n",
      "農 林 計 1 8 11 0 0 0 0 0 0 0 0 0 20\n",
      "県 計 21 44 75 0 0 0 0 0 0 0 0 0 140\n"
     ]
    }
   ],
   "source": [
    "#with help of perplexity ai https://www.perplexity.ai/search/runtimeerror-traceback-most-re-8UInXPFTQTOZNzAVW63s9g (0715)\n",
    "with open(\"hiroshima_bear.csv\", \"w\", newline=\"\", encoding=\"utf-8\") as csvfile:\n",
    "    writer=csv.writer(csvfile)\n",
    "\n",
    "    for link in pdf_links:\n",
    "        try:\n",
    "            response = requests.get(link)\n",
    "            response.raise_for_status()  # Check for request errors\n",
    "            # get the http content like a file\n",
    "            pdf_file=io.BytesIO(response.content)\n",
    "\n",
    "            with pdfplumber.open(pdf_file) as pdf:\n",
    "                for i, page in enumerate(pdf.pages):\n",
    "                    text=page.extract_text()\n",
    "                    print(text)\n",
    "                    if text:\n",
    "                        writer.writerow([link, i+1, text.strip()])\n",
    "                        \n",
    "        except Exception as e:\n",
    "            print(f\"error: {e}\")\n",
    "\n",
    "\n"
   ]
  },
  {
   "cell_type": "code",
   "execution_count": null,
   "id": "d7d90971",
   "metadata": {},
   "outputs": [],
   "source": [
    "#scrape totals only and store into csv\n"
   ]
  }
 ],
 "metadata": {
  "kernelspec": {
   "display_name": "Python 3",
   "language": "python",
   "name": "python3"
  },
  "language_info": {
   "codemirror_mode": {
    "name": "ipython",
    "version": 3
   },
   "file_extension": ".py",
   "mimetype": "text/x-python",
   "name": "python",
   "nbconvert_exporter": "python",
   "pygments_lexer": "ipython3",
   "version": "3.13.2"
  }
 },
 "nbformat": 4,
 "nbformat_minor": 5
}
