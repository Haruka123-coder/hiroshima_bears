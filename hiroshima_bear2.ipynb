{
 "cells": [
  {
   "cell_type": "markdown",
   "id": "ad1c79bf",
   "metadata": {},
   "source": [
    "## Extract data for each year, export to each csv file, compare total of the latest and  the last data"
   ]
  },
  {
   "cell_type": "markdown",
   "id": "8f589515",
   "metadata": {},
   "source": [
    "with help from Perplexity AI \n",
    "https://www.perplexity.ai/search/with-open-hiroshima-bear-csv-w-xukev1oDTMCbq5oyQEDlpw?2=r\n"
   ]
  },
  {
   "cell_type": "code",
   "execution_count": null,
   "id": "53b24433",
   "metadata": {},
   "outputs": [],
   "source": [
    "import requests\n",
    "from bs4 import BeautifulSoup\n",
    "import pdfplumber\n",
    "import io\n",
    "import csv\n",
    "import os\n",
    "import re\n",
    "import pandas as pd\n",
    "import glob"
   ]
  },
  {
   "cell_type": "code",
   "execution_count": 16,
   "id": "9dc0c5cc",
   "metadata": {},
   "outputs": [
    {
     "name": "stderr",
     "output_type": "stream",
     "text": [
      "CropBox missing from /Page, defaulting to MediaBox\n",
      "CropBox missing from /Page, defaulting to MediaBox\n",
      "CropBox missing from /Page, defaulting to MediaBox\n",
      "CropBox missing from /Page, defaulting to MediaBox\n",
      "CropBox missing from /Page, defaulting to MediaBox\n",
      "CropBox missing from /Page, defaulting to MediaBox\n"
     ]
    }
   ],
   "source": [
    "url=\"https://www.pref.hiroshima.lg.jp/site/wildlife-management/wm-bear-main.html\"\n",
    "req=requests.get(url)\n",
    "soup=BeautifulSoup(req.content)\n",
    "a=soup.find_all(\"a\")\n",
    "\n",
    "# scrape PDF from the page and store into list\n",
    "pdf_links=[]\n",
    "for link in a:\n",
    "    href=link.get(\"href\")\n",
    "    text=link.get_text()\n",
    "    head=\"https://www.pref.hiroshima.lg.jp/\"\n",
    "    if link.get(\"href\") and \"目撃件数\" in text and \"年度\" in text:\n",
    "        # scrape the link and the text of the link\n",
    "        pdf_links.append((head + href if not href.startswith(\"http\") else href, text.strip()))\n",
    "\n",
    "def csv_title(title):\n",
    "    m=re.search(r\"(令和[\\d元]+年度ツキノワグマ目撃件数)\", title)\n",
    "    base_title=m.group(1) if m else title.split(\"(\")[0]\n",
    "    cleaned = re.sub(r'[\\\\/*?:\"<>|\\r\\n]', '_', base_title)\n",
    "    return cleaned+\".csv\"\n",
    "\n",
    "for link, title in pdf_links:\n",
    "    try:\n",
    "        response=requests.get(link)\n",
    "        response.raise_for_status() #check request errors\n",
    "        pdf_file=io.BytesIO(response.content)\n",
    "\n",
    "        csv_file_name=csv_title(title)\n",
    "\n",
    "        file_exists=os.path.isfile(csv_file_name)\n",
    "        with open(csv_file_name, \"a\" if file_exists else \"w\", newline=\"\", encoding=\"utf-8\") as csvfile:\n",
    "            writer=csv.writer(csvfile)\n",
    "            if not file_exists:\n",
    "                writer.writerow([\"link\", \"page\", \"title\"])\n",
    "            #read and exract from pdf\n",
    "            with pdfplumber.open(pdf_file) as pdf:\n",
    "                for i, page in enumerate(pdf.pages):\n",
    "                    text=page.extract_text()\n",
    "                    if text:\n",
    "                        writer.writerow([link, i+1, text.strip()])\n",
    "    except Exception as e:\n",
    "        print(f\"error: {e}\")\n",
    "\n"
   ]
  },
  {
   "cell_type": "code",
   "execution_count": 21,
   "id": "05d34896",
   "metadata": {},
   "outputs": [
    {
     "name": "stdout",
     "output_type": "stream",
     "text": [
      "令和７年度ツキノワグマ目撃件数.csv:140, 令和６年度ツキノワグマ目撃件数.csv:789\n",
      "The total of this year（令和７年度ツキノワグマ目撃件数.csv）is less than the last year's.\n"
     ]
    }
   ],
   "source": [
    "\n",
    "\n",
    "def total_bear(csv_file):\n",
    "    df = pd.read_csv(csv_file, header=None, names=[\"link\", \"page\", \"text\"])\n",
    "    for row in df[\"text\"]:\n",
    "        for line in str(row).splitlines():\n",
    "            if line.strip().startswith(\"県 計\"):\n",
    "                nums = re.findall(r'\\d+', line)\n",
    "                if nums:\n",
    "                    return int(nums[-1])\n",
    "    return None\n",
    "\n",
    "def latest_and_last_total():\n",
    "    files = glob.glob(\"令和*年度ツキノワグマ目撃件数.csv\")\n",
    "    def nendo_key(fname):\n",
    "        m = re.search(r\"令和(\\d+)年度ツキノワグマ目撃件数\", fname)\n",
    "        return int(m.group(1)) if m else -1\n",
    "    files.sort(key=nendo_key)\n",
    "    if len(files) < 2:\n",
    "        return None, None\n",
    "    return files[-1], files[-2]\n",
    "\n",
    "#Compare the total number of bears between latest year and the year before\n",
    "latest_csv, last_csv = latest_and_last_total()\n",
    "if latest_csv and last_csv:\n",
    "    latest_total = total_bear(latest_csv)\n",
    "    last_total = total_bear(last_csv)\n",
    "    print(f\"{latest_csv}:{latest_total}, {last_csv}:{last_total}\")\n",
    "    if latest_total is not None and last_total is not None:\n",
    "        if latest_total > last_total:\n",
    "            print(f\"[Notice] This year（{latest_csv}）'s total({latest_total}) has exceeded last year 's ({last_csv})total ({last_total}).\")\n",
    "        else:\n",
    "            print(f\"The total of this year（{latest_csv}）is less than the last year's.\")\n",
    "    else:\n",
    "        print(\"Was not able to extract the total.\")\n",
    "else:\n",
    "    print(\"There are no data to compare.\")\n"
   ]
  }
 ],
 "metadata": {
  "kernelspec": {
   "display_name": "Python 3",
   "language": "python",
   "name": "python3"
  },
  "language_info": {
   "codemirror_mode": {
    "name": "ipython",
    "version": 3
   },
   "file_extension": ".py",
   "mimetype": "text/x-python",
   "name": "python",
   "nbconvert_exporter": "python",
   "pygments_lexer": "ipython3",
   "version": "3.13.2"
  }
 },
 "nbformat": 4,
 "nbformat_minor": 5
}
